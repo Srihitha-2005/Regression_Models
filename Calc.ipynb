{
 "cells": [
  {
   "cell_type": "code",
   "execution_count": 13,
   "id": "f3ac526d-979d-49f4-9556-e7c17a51aaa1",
   "metadata": {},
   "outputs": [
    {
     "name": "stdout",
     "output_type": "stream",
     "text": [
      "slope (c): 0.4\n",
      "intercept (m): 2.4\n",
      "predicted value: [2.8 3.2 3.6 4.  4.4]\n"
     ]
    }
   ],
   "source": [
    "import numpy as np\n",
    "x = np.array([1,2,3,4,5])\n",
    "y = np.array([3,4,2,4,5])\n",
    "xmean = np.mean(x);\n",
    "ymean = np.mean(y);\n",
    "xp = x-xmean\n",
    "yp = y-ymean\n",
    "num = 0.0\n",
    "den = 0.0\n",
    "for i in range(len(x)):\n",
    "    num += xp[i]*yp[i]\n",
    "    den += xp[i]**2\n",
    "c = num / den\n",
    "m = ymean - c * xmean\n",
    "y_p = m + c * x\n",
    "print(\"slope (c):\", c)\n",
    "print(\"intercept (m):\",m)\n",
    "print(\"predicted value:\",y_p)"
   ]
  },
  {
   "cell_type": "code",
   "execution_count": 11,
   "id": "b332b073-bed2-4051-9733-68c60f935c9d",
   "metadata": {},
   "outputs": [
    {
     "data": {
      "text/plain": [
       "[2.8, 5.2, 7.6, 10.0, 12.4]"
      ]
     },
     "execution_count": 11,
     "metadata": {},
     "output_type": "execute_result"
    }
   ],
   "source": [
    "def predict(x):\n",
    "    yp=[]\n",
    "    for i in range(len(x)):\n",
    "        yp.append(m*x[i]+c)\n",
    "    return yp\n",
    "y_p = predict(x)\n",
    "y_p"
   ]
  },
  {
   "cell_type": "code",
   "execution_count": null,
   "id": "64f9fb80-b38d-4a61-894a-e5530e37854b",
   "metadata": {},
   "outputs": [],
   "source": []
  }
 ],
 "metadata": {
  "kernelspec": {
   "display_name": "Python 3 (ipykernel)",
   "language": "python",
   "name": "python3"
  },
  "language_info": {
   "codemirror_mode": {
    "name": "ipython",
    "version": 3
   },
   "file_extension": ".py",
   "mimetype": "text/x-python",
   "name": "python",
   "nbconvert_exporter": "python",
   "pygments_lexer": "ipython3",
   "version": "3.12.7"
  }
 },
 "nbformat": 4,
 "nbformat_minor": 5
}
