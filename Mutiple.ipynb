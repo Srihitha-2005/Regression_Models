{
 "cells": [
  {
   "cell_type": "code",
   "execution_count": 2,
   "id": "e2926281-dc4c-41bf-8aa7-d6855ad60019",
   "metadata": {},
   "outputs": [],
   "source": [
    "import numpy as np\n",
    "import pandas as pd\n",
    "import matplotlib.pyplot as plt\n",
    "import seaborn as sns\n",
    "from sklearn.linear_model import LinearRegression \n",
    "from sklearn.model_selection import train_test_split\n",
    "from sklearn.metrics import mean_squared_error, r2_score,mean_absolute_error\n",
    "import statsmodels.api as sm # For OLS (Ordinary Least Squares) Regression\n",
    "from sklearn.preprocessing import PolynomialFeatures "
   ]
  },
  {
   "cell_type": "code",
   "execution_count": 10,
   "id": "1851da35-1e69-4947-a069-4ce446b8d0dc",
   "metadata": {},
   "outputs": [
    {
     "data": {
      "text/html": [
       "<div>\n",
       "<style scoped>\n",
       "    .dataframe tbody tr th:only-of-type {\n",
       "        vertical-align: middle;\n",
       "    }\n",
       "\n",
       "    .dataframe tbody tr th {\n",
       "        vertical-align: top;\n",
       "    }\n",
       "\n",
       "    .dataframe thead th {\n",
       "        text-align: right;\n",
       "    }\n",
       "</style>\n",
       "<table border=\"1\" class=\"dataframe\">\n",
       "  <thead>\n",
       "    <tr style=\"text-align: right;\">\n",
       "      <th></th>\n",
       "      <th>Wine</th>\n",
       "      <th>Alcohol</th>\n",
       "      <th>Malic.acid</th>\n",
       "      <th>Ash</th>\n",
       "      <th>Acl</th>\n",
       "      <th>Mg</th>\n",
       "      <th>Phenols</th>\n",
       "      <th>Flavanoids</th>\n",
       "      <th>Nonflavanoid.phenols</th>\n",
       "      <th>Proanth</th>\n",
       "      <th>Color.int</th>\n",
       "      <th>Hue</th>\n",
       "      <th>OD</th>\n",
       "      <th>Proline</th>\n",
       "    </tr>\n",
       "  </thead>\n",
       "  <tbody>\n",
       "    <tr>\n",
       "      <th>0</th>\n",
       "      <td>1</td>\n",
       "      <td>14.23</td>\n",
       "      <td>1.71</td>\n",
       "      <td>2.43</td>\n",
       "      <td>15.6</td>\n",
       "      <td>127</td>\n",
       "      <td>2.80</td>\n",
       "      <td>3.06</td>\n",
       "      <td>0.28</td>\n",
       "      <td>2.29</td>\n",
       "      <td>5.64</td>\n",
       "      <td>1.04</td>\n",
       "      <td>3.92</td>\n",
       "      <td>1065</td>\n",
       "    </tr>\n",
       "    <tr>\n",
       "      <th>1</th>\n",
       "      <td>1</td>\n",
       "      <td>13.20</td>\n",
       "      <td>1.78</td>\n",
       "      <td>2.14</td>\n",
       "      <td>11.2</td>\n",
       "      <td>100</td>\n",
       "      <td>2.65</td>\n",
       "      <td>2.76</td>\n",
       "      <td>0.26</td>\n",
       "      <td>1.28</td>\n",
       "      <td>4.38</td>\n",
       "      <td>1.05</td>\n",
       "      <td>3.40</td>\n",
       "      <td>1050</td>\n",
       "    </tr>\n",
       "    <tr>\n",
       "      <th>2</th>\n",
       "      <td>1</td>\n",
       "      <td>13.16</td>\n",
       "      <td>2.36</td>\n",
       "      <td>2.67</td>\n",
       "      <td>18.6</td>\n",
       "      <td>101</td>\n",
       "      <td>2.80</td>\n",
       "      <td>3.24</td>\n",
       "      <td>0.30</td>\n",
       "      <td>2.81</td>\n",
       "      <td>5.68</td>\n",
       "      <td>1.03</td>\n",
       "      <td>3.17</td>\n",
       "      <td>1185</td>\n",
       "    </tr>\n",
       "    <tr>\n",
       "      <th>3</th>\n",
       "      <td>1</td>\n",
       "      <td>14.37</td>\n",
       "      <td>1.95</td>\n",
       "      <td>2.50</td>\n",
       "      <td>16.8</td>\n",
       "      <td>113</td>\n",
       "      <td>3.85</td>\n",
       "      <td>3.49</td>\n",
       "      <td>0.24</td>\n",
       "      <td>2.18</td>\n",
       "      <td>7.80</td>\n",
       "      <td>0.86</td>\n",
       "      <td>3.45</td>\n",
       "      <td>1480</td>\n",
       "    </tr>\n",
       "    <tr>\n",
       "      <th>4</th>\n",
       "      <td>1</td>\n",
       "      <td>13.24</td>\n",
       "      <td>2.59</td>\n",
       "      <td>2.87</td>\n",
       "      <td>21.0</td>\n",
       "      <td>118</td>\n",
       "      <td>2.80</td>\n",
       "      <td>2.69</td>\n",
       "      <td>0.39</td>\n",
       "      <td>1.82</td>\n",
       "      <td>4.32</td>\n",
       "      <td>1.04</td>\n",
       "      <td>2.93</td>\n",
       "      <td>735</td>\n",
       "    </tr>\n",
       "  </tbody>\n",
       "</table>\n",
       "</div>"
      ],
      "text/plain": [
       "   Wine  Alcohol  Malic.acid   Ash   Acl   Mg  Phenols  Flavanoids  \\\n",
       "0     1    14.23        1.71  2.43  15.6  127     2.80        3.06   \n",
       "1     1    13.20        1.78  2.14  11.2  100     2.65        2.76   \n",
       "2     1    13.16        2.36  2.67  18.6  101     2.80        3.24   \n",
       "3     1    14.37        1.95  2.50  16.8  113     3.85        3.49   \n",
       "4     1    13.24        2.59  2.87  21.0  118     2.80        2.69   \n",
       "\n",
       "   Nonflavanoid.phenols  Proanth  Color.int   Hue    OD  Proline  \n",
       "0                  0.28     2.29       5.64  1.04  3.92     1065  \n",
       "1                  0.26     1.28       4.38  1.05  3.40     1050  \n",
       "2                  0.30     2.81       5.68  1.03  3.17     1185  \n",
       "3                  0.24     2.18       7.80  0.86  3.45     1480  \n",
       "4                  0.39     1.82       4.32  1.04  2.93      735  "
      ]
     },
     "execution_count": 10,
     "metadata": {},
     "output_type": "execute_result"
    }
   ],
   "source": [
    "data = pd.read_csv('wine.csv')\n",
    "data.head()"
   ]
  },
  {
   "cell_type": "markdown",
   "id": "404ecbc7-e32e-4805-9965-7302f17299f8",
   "metadata": {},
   "source": [
    "***One variable***"
   ]
  },
  {
   "cell_type": "code",
   "execution_count": 71,
   "id": "1fa3f5f7-4372-4691-9a54-b7bb88ad7ecb",
   "metadata": {},
   "outputs": [
    {
     "name": "stdout",
     "output_type": "stream",
     "text": [
      "0.44849268688617133\n",
      "0.23115539390942041\n",
      "predicted_value:[1.37554472]\n",
      "Classified data\n"
     ]
    }
   ],
   "source": [
    "X = data[['Alcohol']].values\n",
    "Y = data[['Wine']].values\n",
    "\n",
    "poly = PolynomialFeatures(degree=2)\n",
    "X_poly = poly.fit_transform(X)\n",
    "\n",
    "X_train, X_test, y_train, y_test = train_test_split(X_poly,Y,test_size=0.2, random_state=42)\n",
    "\n",
    "model = LinearRegression()\n",
    "model.fit(X_train, y_train)\n",
    "\n",
    "y_pred = model.predict(X_test)\n",
    "\n",
    "mse = mean_squared_error(y_test, y_pred)\n",
    "print(mse)\n",
    "r2 = r2_score(y_test, y_pred)\n",
    "print(r2)\n",
    "\n",
    "new_house = np.array([[14.23]])\n",
    "new_house_poly = poly.transform(new_house)\n",
    "predicted_price = model.predict(new_house_poly)\n",
    "predicted_price_value1 = predicted_price[0]\n",
    "print(f\"predicted_value:{predicted_price_value1}\")\n",
    "if predicted_price_value1 < 0.5:\n",
    "    print(\"not a good data\")\n",
    "else:\n",
    "    print(\"Classified data\")"
   ]
  },
  {
   "cell_type": "markdown",
   "id": "3037c073-ba46-44b9-91ee-e62dc76e6eaf",
   "metadata": {},
   "source": [
    "***Two variables***"
   ]
  },
  {
   "cell_type": "code",
   "execution_count": 76,
   "id": "4c9425e7-2ec2-4d5f-8e5c-cb429452ddf0",
   "metadata": {},
   "outputs": [
    {
     "name": "stdout",
     "output_type": "stream",
     "text": [
      "0.3500743216936544\n",
      "0.3998725913823067\n",
      "predicted_value:[1.07015153]\n",
      "Classified data\n"
     ]
    }
   ],
   "source": [
    "X = data[['Alcohol','Malic.acid']].values\n",
    "Y = data[['Wine']].values\n",
    "\n",
    "poly = PolynomialFeatures(degree=2)\n",
    "X_poly = poly.fit_transform(X)\n",
    "\n",
    "X_train, X_test, y_train, y_test = train_test_split(X_poly,Y,test_size=0.2, random_state=42)\n",
    "\n",
    "model = LinearRegression()\n",
    "model.fit(X_train, y_train)\n",
    "\n",
    "y_pred = model.predict(X_test)\n",
    "\n",
    "mse = mean_squared_error(y_test, y_pred)\n",
    "print(mse)\n",
    "r2 = r2_score(y_test, y_pred)\n",
    "print(r2)\n",
    "\n",
    "new_house = np.array([[14.23,1.71]])\n",
    "new_house_poly = poly.transform(new_house)\n",
    "predicted_price = model.predict(new_house_poly)\n",
    "predicted_price_value1 = predicted_price[0]\n",
    "print(f\"predicted_value:{predicted_price_value1}\")\n",
    "if predicted_price_value1 < 0.5:\n",
    "    print(\"not a good data\")\n",
    "else:\n",
    "    print(\"Classified data\")"
   ]
  },
  {
   "cell_type": "markdown",
   "id": "7643fa8d-46f7-4157-b2a6-5763cbdedfed",
   "metadata": {},
   "source": [
    "***Three Variable***"
   ]
  },
  {
   "cell_type": "code",
   "execution_count": 78,
   "id": "8339c837-f0b2-4f5c-b716-16ee76f9c98c",
   "metadata": {},
   "outputs": [
    {
     "name": "stdout",
     "output_type": "stream",
     "text": [
      "0.33239878091118263\n",
      "0.43017351843797247\n",
      "predicted_value:[1.09283778]\n",
      "Classified data\n"
     ]
    }
   ],
   "source": [
    "X = data[['Alcohol','Malic.acid','Ash']].values\n",
    "Y = data[['Wine']].values\n",
    "\n",
    "poly = PolynomialFeatures(degree=2)\n",
    "X_poly = poly.fit_transform(X)\n",
    "\n",
    "X_train, X_test, y_train, y_test = train_test_split(X_poly,Y,test_size=0.2, random_state=42)\n",
    "\n",
    "model = LinearRegression()\n",
    "model.fit(X_train, y_train)\n",
    "\n",
    "y_pred = model.predict(X_test)\n",
    "\n",
    "mse = mean_squared_error(y_test, y_pred)\n",
    "print(mse)\n",
    "r2 = r2_score(y_test, y_pred)\n",
    "print(r2)\n",
    "\n",
    "new_house = np.array([[14.23,1.71,2.43]])\n",
    "new_house_poly = poly.transform(new_house)\n",
    "predicted_price = model.predict(new_house_poly)\n",
    "predicted_price_value1 = predicted_price[0]\n",
    "print(f\"predicted_value:{predicted_price_value1}\")\n",
    "if predicted_price_value1 < 0.5:\n",
    "    print(\"not a good data\")\n",
    "else:\n",
    "    print(\"Classified data\")"
   ]
  },
  {
   "cell_type": "markdown",
   "id": "59f2ae66-ac9f-4369-9a99-e985e0cbe687",
   "metadata": {},
   "source": [
    "***Four variables***"
   ]
  },
  {
   "cell_type": "code",
   "execution_count": 82,
   "id": "137c6b55-20e1-4c41-8549-9a0e2915f53f",
   "metadata": {},
   "outputs": [
    {
     "name": "stdout",
     "output_type": "stream",
     "text": [
      "0.28170671023092264\n",
      "0.517074211032704\n",
      "predicted_value:[0.94050249]\n",
      "Classified data\n"
     ]
    }
   ],
   "source": [
    "X = data[['Alcohol','Malic.acid','Ash','Acl']].values\n",
    "Y = data[['Wine']].values\n",
    "\n",
    "poly = PolynomialFeatures(degree=2)\n",
    "X_poly = poly.fit_transform(X)\n",
    "\n",
    "X_train, X_test, y_train, y_test = train_test_split(X_poly,Y,test_size=0.2, random_state=42)\n",
    "\n",
    "model = LinearRegression()\n",
    "model.fit(X_train, y_train)\n",
    "\n",
    "y_pred = model.predict(X_test)\n",
    "\n",
    "mse = mean_squared_error(y_test, y_pred)\n",
    "print(mse)\n",
    "r2 = r2_score(y_test, y_pred)\n",
    "print(r2)\n",
    "\n",
    "new_house = np.array([[14.23,1.71,2.43,15.6]])\n",
    "new_house_poly = poly.transform(new_house)\n",
    "predicted_price = model.predict(new_house_poly)\n",
    "predicted_price_value1 = predicted_price[0]\n",
    "print(f\"predicted_value:{predicted_price_value1}\")\n",
    "if predicted_price_value1 < 0.5:\n",
    "    print(\"not a good data\")\n",
    "else:\n",
    "    print(\"Classified data\")"
   ]
  },
  {
   "cell_type": "markdown",
   "id": "e115bb68-02f7-4939-a084-3d4114f0ceb3",
   "metadata": {},
   "source": [
    "***Five Variables***"
   ]
  },
  {
   "cell_type": "code",
   "execution_count": 86,
   "id": "d4cc03d5-6801-43da-a69a-e136b40d2990",
   "metadata": {},
   "outputs": [
    {
     "name": "stdout",
     "output_type": "stream",
     "text": [
      "0.2768539432124273\n",
      "0.5253932402072674\n",
      "predicted_value:[0.53182282]\n",
      "Classified data\n"
     ]
    }
   ],
   "source": [
    "X = data[['Alcohol','Malic.acid','Ash','Acl','Mg']].values\n",
    "Y = data[['Wine']].values\n",
    "\n",
    "poly = PolynomialFeatures(degree=2)\n",
    "X_poly = poly.fit_transform(X)\n",
    "\n",
    "X_train, X_test, y_train, y_test = train_test_split(X_poly,Y,test_size=0.2, random_state=42)\n",
    "\n",
    "model = LinearRegression()\n",
    "model.fit(X_train, y_train)\n",
    "\n",
    "y_pred = model.predict(X_test)\n",
    "\n",
    "mse = mean_squared_error(y_test, y_pred)\n",
    "r2 = r2_score(y_test, y_pred)\n",
    "print(mse)\n",
    "print(r2)\n",
    "\n",
    "new_house = np.array([[14.23, 1.71, 2.43, 15.6, 127]])\n",
    "new_house_poly = poly.transform(new_house)\n",
    "predicted_price = model.predict(new_house_poly)\n",
    "predicted_price_value1 = predicted_price[0]\n",
    "print(f\"predicted_value:{predicted_price_value1}\")\n",
    "if predicted_price_value1 < 0.5:\n",
    "    print(\"not a good data\")\n",
    "else:\n",
    "    print(\"Classified data\")"
   ]
  },
  {
   "cell_type": "code",
   "execution_count": null,
   "id": "5f9a952f-9d6a-43a4-8bf5-9b6b6fab01e6",
   "metadata": {},
   "outputs": [],
   "source": []
  }
 ],
 "metadata": {
  "kernelspec": {
   "display_name": "Python 3 (ipykernel)",
   "language": "python",
   "name": "python3"
  },
  "language_info": {
   "codemirror_mode": {
    "name": "ipython",
    "version": 3
   },
   "file_extension": ".py",
   "mimetype": "text/x-python",
   "name": "python",
   "nbconvert_exporter": "python",
   "pygments_lexer": "ipython3",
   "version": "3.12.7"
  }
 },
 "nbformat": 4,
 "nbformat_minor": 5
}
